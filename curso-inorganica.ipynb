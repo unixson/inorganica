{
 "cells": [
  {
   "cell_type": "markdown",
   "metadata": {},
   "source": [
    "# Química Inorgánica\n",
    "## Enfoque en contexto\n",
    "\n",
    "## Profesor Dr. Felipe Medrano Valenzuela\n",
    "\n",
    "Contenido\n",
    "\n",
    "Relación de actividades a realizar\n",
    "\n",
    "Productos y evidencias a entregar\n",
    "\n",
    "### Presentación del curso\n",
    "\n",
    "Este es el curso de química inorgánica perteneciente al plan de estudios de las carerras de QBC y QA del Departamento de Ciencias Químico-Biológicas de la Univerisdad de Sonora. Pro primera vez, tenemos la oportunidad de ofrecer el curso en 100 % en linea y a distancia. Esto tiene ventajas y desventajas. Por un lado, puedes estudiar en el momento que puedas, pues la mayoria de los recursos estarán disponibles en horario 24/7, es decir siempre disponibles (claro a menos que tengas un corte en tu acceso a internet). Las sesiones en vivo se limitan a solo 40 a 45 minutos maximo y se enfocan principalmente en la resolución de dudas del material presentado previamente. La mayor desventaja de la educación en linea es la imposibilidad de controlar los procesos de evaluación mediante examenes (claro hay herramientas que permitirian controlar tu actividad durante un examen en linea, pero son costosas y no tenemos acceso a esa tecnología). Pero aqui vamos a emplear un formato de aula invertida. El material de clase será revisado previamente y durante las sesiones en vivo deberán trabajar los ejercicios y problemas respectivos. Todos los temas se revisan en base a un problema particular, en el llamado enfoque en contexto y por aprendizaje basado en problemas. \n",
    "\n",
    "En este libro pensamos un problema para proponer respuestas. El problema no esta definido en su totalidad, no se proporciona toda la información, porque tu debes investigar por tu cuenta, definirlo y aclararlo primero. Posteriormente tratar de realizar un enfoque particular para resolverlo. No hay un solo caminio en este caso, ni respuestas únicas. Deberas presentar tus avances semana a semana y tendras que trabajar en equipo.\n",
    "\n",
    "### Contextos\n",
    "\n",
    "La huella de carbono en la producción de carne y leche (ganaderia), local. Gases como el metano se producen en grandes cantidades. \n",
    "\n",
    "El cultivo de aguacate y la deforestación. \n",
    "\n",
    "La calidad del agua de los pozos del area rural de México. Fluor y arsenico\n",
    "\n",
    "La minería y sus consecuencias. Rio Sonora...los costos están en mi celular\n",
    "\n",
    "Alamacenamiento de energia y produccion de energia. Baterias y supercapacitores.\n",
    "\n",
    "La quimica inorganica medicinal\n",
    "\n",
    "Revisar el articulo, quimica inorganica medicinal y resumir. Contestar algunas preguntas. Hacer una mirada mas profunda a la cis-platina y su actividad farmacológica. \n",
    "\n",
    "Desarrollar la habilidad de localizar la información relevante de un compuesto. Sus propiedades y su estructura, explorando las bases de datos de PubChem.\n",
    "\n",
    "Entregable, una tabla explicada con descriptores moleculares, formas de codificacion, etc.\n",
    "\n",
    "\n",
    "### Materiales para consulta\n",
    "\n",
    "Debes aprender a localizar las fuentes de información. Aquí no satanizamos ninguna fuente sin antes verificar la calidad de la información que proporciona. Acuerdate, no todo lo publicado es cierto, aun en los journals mas serios hay fraudes. y un remedio para la falacia de autoridad: \"No veas quien lo dice, fijate en lo que dice\". Debes desarrollar un sentido especial para localizar los datos que requieres y valorarlos.\n",
    "\n",
    "\n",
    "\n",
    "\n",
    "\n",
    "\n",
    "\n",
    "\n"
   ]
  },
  {
   "cell_type": "markdown",
   "metadata": {},
   "source": [
    "### Importancia de la química inorgánica\n",
    "\n",
    "Vamos a elegir un compuesto que tenga importancia en la medicina, tanto por su uso como su posible potencial como fármaco. Hay varios: el mas famoso de todos es la cis-platina aqui lo presentamos interactuando con un trozo de DNA."
   ]
  },
  {
   "cell_type": "code",
   "execution_count": 2,
   "metadata": {},
   "outputs": [
    {
     "ename": "SyntaxError",
     "evalue": "invalid syntax (<ipython-input-2-7637a8553825>, line 8)",
     "output_type": "error",
     "traceback": [
      "\u001b[1;36m  File \u001b[1;32m\"<ipython-input-2-7637a8553825>\"\u001b[1;36m, line \u001b[1;32m8\u001b[0m\n\u001b[1;33m    p.setStyle('sphere','select':'CPT')\u001b[0m\n\u001b[1;37m                                ^\u001b[0m\n\u001b[1;31mSyntaxError\u001b[0m\u001b[1;31m:\u001b[0m invalid syntax\n"
     ]
    }
   ],
   "source": [
    "# vamos a traer algun archivo del protein data bank que contenga a la cis-platina\n",
    "import py3Dmol\n",
    "#view = py3Dmol.view(query='pdb:1DDP',linked=False)\n",
    "#view.setStyle({'cartoon': {'color':'white'}})\n",
    "#view.addSurface(py3Dmol.VDW,{'opacity':0.7,'colorscheme':{'prop':'b','gradient':'sinebow','min':0,'max':70}})\n",
    "p=py3Dmol.view(query='pdb:1DDP')\n",
    "p.setStyle({'cartoon':{'color':'spectrum'}})\n",
    "p.setStyle('sphere','select':'CPT')\n",
    "#p.setStyle({'stick': {'radius': .1}, 'sphere': {'scale': 0.25}})\n",
    "p.show();"
   ]
  },
  {
   "cell_type": "code",
   "execution_count": 34,
   "metadata": {},
   "outputs": [
    {
     "name": "stdout",
     "output_type": "stream",
     "text": [
      "mi CID es: [446466]\n",
      "mi nombre IUPAC es: (2R,3S,4S,5R,6R)-2-(hydroxymethyl)-6-sulfanyloxane-3,4,5-triol\n",
      "mi representación smiles C([C@@H]1[C@H]([C@@H]([C@H]([C@H](O1)S)O)O)O)O\n",
      "mi formula molecular es: C6H12O5S\n",
      "Mi peso molecular = 196.22\n",
      "mi coeficiente de partción -1.6\n"
     ]
    }
   ],
   "source": [
    "\n",
    "import pubchempy as pcp\n",
    "cid = pcp.get_cids('1-thio-alpha-D-glucopyranose', 'name', 'substance', list_return='flat')\n",
    "cid\n",
    "c = pcp.Compound.from_cid(cid)\n",
    "print(\"mi CID es:\", cid)\n",
    "print(\"mi nombre IUPAC es:\", c.iupac_name)\n",
    "print(\"mi representación smiles\", c.isomeric_smiles)\n",
    "print(\"mi formula molecular es:\" , c.molecular_formula)\n",
    "print(\"Mi peso molecular =\", c.molecular_weight)\n",
    "print(\"mi coeficiente de partición\", c.xlogp)\n",
    "\n"
   ]
  },
  {
   "cell_type": "code",
   "execution_count": 30,
   "metadata": {},
   "outputs": [
    {
     "data": {
      "image/png": "[encoded data removed]",
      "text/plain": [
       "<rdkit.Chem.rdchem.Mol at 0x19785e90300>"
      ]
     },
     "execution_count": 30,
     "metadata": {},
     "output_type": "execute_result"
    }
   ],
   "source": [
    "%matplotlib inline\n",
    "from rdkit import Chem\n",
    "from rdkit.Chem import Draw\n",
    "\n",
    "ms = c.isomeric_smiles\n",
    "m = Chem.MolFromSmiles( ms )\n",
    "m\n",
    "\n",
    "\n",
    "#mol_str = 'COc1ccc2c(c1)[nH]c(n2)[S@@](=O)Cc1ncc(c(c1C)OC)C'\n",
    "#benceno = 'c1ccccc1'\n",
    "#m = Chem.MolFromSmiles( mol_str )\n",
    "#m\n",
    "#n = Chem.MolFromSmiles(benceno)\n",
    "#n"
   ]
  },
  {
   "cell_type": "code",
   "execution_count": 32,
   "metadata": {},
   "outputs": [
    {
     "data": {
      "application/3dmoljs_load.v0": "<div id=\"3dmolviewer_1595100169633093\"  style=\"position: relative; width: 640px; height: 480px\">\n        <p id=\"3dmolwarning_1595100169633093\" style=\"background-color:#ffcccc;color:black\">You appear to be running in JupyterLab (or JavaScript failed to load for some other reason).  You need to install the 3dmol extension: <br>\n        <tt>jupyter labextension install jupyterlab_3dmol</tt></p>\n        </div>\n<script>\n\nvar loadScriptAsync = function(uri){\n  return new Promise((resolve, reject) => {\n    var tag = document.createElement('script');\n    tag.src = uri;\n    tag.async = true;\n    tag.onload = () => {\n      resolve();\n    };\n  var firstScriptTag = document.getElementsByTagName('script')[0];\n  firstScriptTag.parentNode.insertBefore(tag, firstScriptTag);\n});\n};\n\nif(typeof $3Dmolpromise === 'undefined') {\n$3Dmolpromise = null;\n  $3Dmolpromise = loadScriptAsync('https://3dmol.csb.pitt.edu/build/3Dmol.js');\n}\n\nvar viewer_1595100169633093 = null;\nvar warn = document.getElementById(\"3dmolwarning_1595100169633093\");\nif(warn) {\n    warn.parentNode.removeChild(warn);\n}\n$3Dmolpromise.then(function() {\nviewer_1595100169633093 = $3Dmol.createViewer($(\"#3dmolviewer_1595100169633093\"),{backgroundColor:\"white\"});\n$3Dmol.download(\"cid:446466\", viewer_1595100169633093, {}, function() {\n\tviewer_1595100169633093.setStyle({\"stick\": {\"radius\": 0.1}, \"sphere\": {\"scale\": 0.25}});\nviewer_1595100169633093.render();\n})\n});\n</script>",
      "text/html": [
       "<div id=\"3dmolviewer_1595100169633093\"  style=\"position: relative; width: 640px; height: 480px\">\n",
       "        <p id=\"3dmolwarning_1595100169633093\" style=\"background-color:#ffcccc;color:black\">You appear to be running in JupyterLab (or JavaScript failed to load for some other reason).  You need to install the 3dmol extension: <br>\n",
       "        <tt>jupyter labextension install jupyterlab_3dmol</tt></p>\n",
       "        </div>\n",
       "<script>\n",
       "\n",
       "var loadScriptAsync = function(uri){\n",
       "  return new Promise((resolve, reject) => {\n",
       "    var tag = document.createElement('script');\n",
       "    tag.src = uri;\n",
       "    tag.async = true;\n",
       "    tag.onload = () => {\n",
       "      resolve();\n",
       "    };\n",
       "  var firstScriptTag = document.getElementsByTagName('script')[0];\n",
       "  firstScriptTag.parentNode.insertBefore(tag, firstScriptTag);\n",
       "});\n",
       "};\n",
       "\n",
       "if(typeof $3Dmolpromise === 'undefined') {\n",
       "$3Dmolpromise = null;\n",
       "  $3Dmolpromise = loadScriptAsync('https://3dmol.csb.pitt.edu/build/3Dmol.js');\n",
       "}\n",
       "\n",
       "var viewer_1595100169633093 = null;\n",
       "var warn = document.getElementById(\"3dmolwarning_1595100169633093\");\n",
       "if(warn) {\n",
       "    warn.parentNode.removeChild(warn);\n",
       "}\n",
       "$3Dmolpromise.then(function() {\n",
       "viewer_1595100169633093 = $3Dmol.createViewer($(\"#3dmolviewer_1595100169633093\"),{backgroundColor:\"white\"});\n",
       "$3Dmol.download(\"cid:446466\", viewer_1595100169633093, {}, function() {\n",
       "\tviewer_1595100169633093.setStyle({\"stick\": {\"radius\": 0.1}, \"sphere\": {\"scale\": 0.25}});\n",
       "viewer_1595100169633093.render();\n",
       "})\n",
       "});\n",
       "</script>"
      ]
     },
     "metadata": {},
     "output_type": "display_data"
    }
   ],
   "source": [
    "# en 3 D\n",
    "import py3Dmol\n",
    "p=py3Dmol.view(query='cid:446466')\n",
    "p.setStyle({'stick': {'radius': .1}, 'sphere': {'scale': 0.25}})\n",
    "p.show();"
   ]
  },
  {
   "cell_type": "markdown",
   "metadata": {},
   "source": [
    "### La tabla periodica y mi celular\n",
    "Tomado del libro de la ACS.\n",
    "\n",
    "**REFLEXIÓN**\n",
    "\n",
    "*¿Qué hay en tu teléfono celular?*\n",
    "\n",
    "Como verá en este capítulo, la química juega un papel central en el control de las propiedades de dispositivos electrónicos.\n",
    "1. Enumere algunos atributos deseables de un teléfono celular y algunos que le gustaría ver en el futuro.\n",
    "2. La mayoría de los materiales que componen su teléfono celular pueden clasificarse como metales,plásticos o vidrio. Usando la Web como recurso, describa de dónde vienen estos materiales de (tanto la (s) región (es) del mundo donde se producen como las materias primas utilizadas en su fabricación).\n",
    "3. Cite dos elementos que se combinan para formar una sustancia importante para su teléfono celular.\n",
    "4. ¿Cuál es la vida útil esperada de su teléfono celular?"
   ]
  },
  {
   "cell_type": "markdown",
   "metadata": {},
   "source": [
    "#### Tu turno 1.1 Prácticas científicas ¡Qué pequeño!\n",
    "\n",
    "Los bloques de construcción más pequeños dentro de su teléfono celular son aproximadamente 1000 veces más pequeños que\n",
    "diámetro de una fibra de cabello humano!\n",
    "1. ¿Cuál es el diámetro típico de una fibra capilar individual?\n",
    "2. Usando la respuesta encontrada en la pregunta 1, ¿cuántos anchos de fibra capilar se necesitarían para abarcan la longitud de su teléfono celular?"
   ]
  },
  {
   "cell_type": "markdown",
   "metadata": {},
   "source": [
    "##### Your Turn 1.2 Práctica científica. Pantalla táctil\n",
    "Tenga cuidado de no dañar su pantalla, use una variedad de materiales para tocar la pantalla de Tu dispositivo electrónico portátil. Además de su dedo, los elementos que se pueden usar incluyenun clip de papel, bolígrafo de plástico, llave, batería, tela, mina de lápiz, esponja (húmeda y seca), lápiz\n",
    "borrador, moneda, canica de vidrio, papel, cartón o cualquier otro artículo. ¿Alguno de estos materiales,aparte de tu dedo, causa una respuesta? R"
   ]
  },
  {
   "cell_type": "markdown",
   "metadata": {},
   "source": [
    "##### Tu turno 1.3 Prácticas científicas La tabla periódica Dentro de su teléfono celular\n",
    "Examine la tabla periódica que se muestra arriba. ¿Qué elementos crees que se encuentran en tu Teléfono móvil?"
   ]
  },
  {
   "cell_type": "code",
   "execution_count": 8,
   "metadata": {},
   "outputs": [
    {
     "data": {
      "application/vnd.jupyter.widget-view+json": {
       "model_id": "dc543ac8ccc6463093838c1e1a8a187a",
       "version_major": 2,
       "version_minor": 0
      },
      "text/plain": [
       "interactive(children=(Text(value='CC=O', description='smi'), Output()), _dom_classes=('widget-interact',))"
      ]
     },
     "metadata": {},
     "output_type": "display_data"
    }
   ],
   "source": [
    "import py3Dmol\n",
    "from rdkit import Chem\n",
    "from rdkit.Chem import AllChem\n",
    "from ipywidgets import interact,fixed,IntSlider\n",
    "import ipywidgets\n",
    "def MolTo3DView(mol, size=(300, 300), style=\"stick\", surface=False, opacity=0.5):\n",
    "    \"\"\"Draw molecule in 3D\n",
    "    \n",
    "    Args:\n",
    "    ----\n",
    "        mol: rdMol, molecule to show\n",
    "        size: tuple(int, int), canvas size\n",
    "        style: str, type of drawing molecule\n",
    "               style can be 'line', 'stick', 'sphere', 'carton'\n",
    "        surface, bool, display SAS\n",
    "        opacity, float, opacity of surface, range 0.0-1.0\n",
    "    Return:\n",
    "    ----\n",
    "        viewer: py3Dmol.view, a class for constructing embedded 3Dmol.js views in ipython notebooks.\n",
    "    \"\"\"\n",
    "    assert style in ('line', 'stick', 'sphere', 'carton')\n",
    "    mblock = Chem.MolToMolBlock(mol)\n",
    "    viewer = py3Dmol.view(width=size[0], height=size[1])\n",
    "    viewer.addModel(mblock, 'mol')\n",
    "    viewer.setStyle({style:{}})\n",
    "    if surface:\n",
    "        viewer.addSurface(py3Dmol.SAS, {'opacity': opacity})\n",
    "    viewer.zoomTo()\n",
    "    return viewer\n",
    "@interact\n",
    "def smi2viewer(smi='CC=O'):\n",
    "    try:\n",
    "        conf = smi2conf(smi)\n",
    "        return MolTo3DView(conf).show()\n",
    "    except:\n",
    "        return None"
   ]
  },
  {
   "cell_type": "code",
   "execution_count": null,
   "metadata": {},
   "outputs": [],
   "source": []
  }
 ],
 "metadata": {
  "kernelspec": {
   "display_name": "Python 3",
   "language": "python",
   "name": "python3"
  },
  "language_info": {
   "codemirror_mode": {
    "name": "ipython",
    "version": 3
   },
   "file_extension": ".py",
   "mimetype": "text/x-python",
   "name": "python",
   "nbconvert_exporter": "python",
   "pygments_lexer": "ipython3",
   "version": "3.7.1"
  }
 },
 "nbformat": 4,
 "nbformat_minor": 2
}
